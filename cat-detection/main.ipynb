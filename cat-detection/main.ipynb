{
 "cells": [
  {
   "cell_type": "markdown",
   "metadata": {},
   "source": [
    "# Imports"
   ]
  },
  {
   "cell_type": "code",
   "execution_count": 5,
   "metadata": {},
   "outputs": [
    {
     "name": "stdout",
     "output_type": "stream",
     "text": [
      "Requirement already satisfied: numpy in c:\\users\\samim\\appdata\\local\\programs\\python\\python310\\lib\\site-packages (2.2.2)\n",
      "Requirement already satisfied: matplotlib in c:\\users\\samim\\appdata\\local\\programs\\python\\python310\\lib\\site-packages (3.10.0)\n",
      "Requirement already satisfied: h5py in c:\\users\\samim\\appdata\\local\\programs\\python\\python310\\lib\\site-packages (3.12.1)\n",
      "Requirement already satisfied: Pillow in c:\\users\\samim\\appdata\\local\\programs\\python\\python310\\lib\\site-packages (10.4.0)\n",
      "Requirement already satisfied: contourpy>=1.0.1 in c:\\users\\samim\\appdata\\local\\programs\\python\\python310\\lib\\site-packages (from matplotlib) (1.3.1)\n",
      "Requirement already satisfied: kiwisolver>=1.3.1 in c:\\users\\samim\\appdata\\local\\programs\\python\\python310\\lib\\site-packages (from matplotlib) (1.4.8)\n",
      "Requirement already satisfied: pyparsing>=2.3.1 in c:\\users\\samim\\appdata\\local\\programs\\python\\python310\\lib\\site-packages (from matplotlib) (3.2.1)\n",
      "Requirement already satisfied: packaging>=20.0 in c:\\users\\samim\\appdata\\roaming\\python\\python310\\site-packages (from matplotlib) (24.2)\n",
      "Requirement already satisfied: cycler>=0.10 in c:\\users\\samim\\appdata\\local\\programs\\python\\python310\\lib\\site-packages (from matplotlib) (0.12.1)\n",
      "Requirement already satisfied: fonttools>=4.22.0 in c:\\users\\samim\\appdata\\local\\programs\\python\\python310\\lib\\site-packages (from matplotlib) (4.55.8)\n",
      "Requirement already satisfied: python-dateutil>=2.7 in c:\\users\\samim\\appdata\\roaming\\python\\python310\\site-packages (from matplotlib) (2.9.0.post0)\n",
      "Requirement already satisfied: six>=1.5 in c:\\users\\samim\\appdata\\roaming\\python\\python310\\site-packages (from python-dateutil>=2.7->matplotlib) (1.17.0)\n",
      "Note: you may need to restart the kernel to use updated packages.\n"
     ]
    },
    {
     "name": "stderr",
     "output_type": "stream",
     "text": [
      "WARNING: You are using pip version 21.2.3; however, version 25.0 is available.\n",
      "You should consider upgrading via the 'c:\\Users\\samim\\AppData\\Local\\Programs\\Python\\Python310\\python.exe -m pip install --upgrade pip' command.\n"
     ]
    }
   ],
   "source": [
    "%pip install numpy matplotlib h5py Pillow"
   ]
  },
  {
   "cell_type": "code",
   "execution_count": 6,
   "metadata": {},
   "outputs": [],
   "source": [
    "import sys\n",
    "import numpy as np\n",
    "import h5py\n",
    "\n",
    "sys.path.append(\"..\")\n",
    "from utils import Classification"
   ]
  },
  {
   "cell_type": "markdown",
   "metadata": {},
   "source": [
    "# Data"
   ]
  },
  {
   "cell_type": "code",
   "execution_count": 7,
   "metadata": {},
   "outputs": [],
   "source": [
    "data = h5py.File(\"data.h5\", \"r\")\n",
    "\n",
    "keys = list(data.keys())\n",
    "\n",
    "x = np.array(data[keys[1]])\n",
    "y = np.array(data[keys[2]])\n",
    "\n",
    "x_train = x.reshape(x.shape[0], np.prod(x.shape[1:]))\n",
    "y_train = y.reshape(y.shape[0], -1).flatten()"
   ]
  },
  {
   "cell_type": "markdown",
   "metadata": {},
   "source": [
    "# Train > Cost Plot > Accuracy"
   ]
  },
  {
   "cell_type": "code",
   "execution_count": 8,
   "metadata": {},
   "outputs": [
    {
     "name": "stdout",
     "output_type": "stream",
     "text": [
      "\u001b[36mEpoch >     0\u001b[39m | \u001b[33mCost: 0.696709\u001b[39m\n",
      "\u001b[36mEpoch >     1\u001b[39m | \u001b[33mCost: 0.675111\u001b[39m\n",
      "\u001b[36mEpoch >     2\u001b[39m | \u001b[33mCost: 0.677251\u001b[39m\n",
      "\u001b[36mEpoch >     3\u001b[39m | \u001b[33mCost: 0.663147\u001b[39m\n",
      "\u001b[36mEpoch >     4\u001b[39m | \u001b[33mCost: 0.664618\u001b[39m\n",
      "\u001b[36mEpoch >     5\u001b[39m | \u001b[33mCost: 0.653844\u001b[39m\n",
      "\u001b[36mEpoch >     6\u001b[39m | \u001b[33mCost: 0.654946\u001b[39m\n",
      "\u001b[36mEpoch >     7\u001b[39m | \u001b[33mCost: 0.646043\u001b[39m\n",
      "\u001b[36mEpoch >     8\u001b[39m | \u001b[33mCost: 0.646911\u001b[39m\n",
      "\u001b[36mEpoch >     9\u001b[39m | \u001b[33mCost: 0.639207\u001b[39m\n",
      "\u001b[36mEpoch >    10\u001b[39m | \u001b[33mCost: 0.639906\u001b[39m\n",
      "\u001b[36mEpoch >    11\u001b[39m | \u001b[33mCost: 0.633043\u001b[39m\n",
      "\u001b[36mEpoch >    12\u001b[39m | \u001b[33mCost: 0.633602\u001b[39m\n",
      "\u001b[36mEpoch >    13\u001b[39m | \u001b[33mCost: 0.627374\u001b[39m\n",
      "\u001b[36mEpoch >    14\u001b[39m | \u001b[33mCost: 0.627808\u001b[39m\n",
      "\u001b[36mEpoch >    15\u001b[39m | \u001b[33mCost: 0.622085\u001b[39m\n",
      "\u001b[36mEpoch >    16\u001b[39m | \u001b[33mCost: 0.622399\u001b[39m\n",
      "\u001b[36mEpoch >    17\u001b[39m | \u001b[33mCost: 0.617096\u001b[39m\n",
      "\u001b[36mEpoch >    18\u001b[39m | \u001b[33mCost: 0.617292\u001b[39m\n",
      "\u001b[36mEpoch >    19\u001b[39m | \u001b[33mCost: 0.612353\u001b[39m\n",
      "\u001b[36mEpoch >    20\u001b[39m | \u001b[33mCost: 0.612433\u001b[39m\n",
      "\u001b[36mEpoch >    21\u001b[39m | \u001b[33mCost: 0.607817\u001b[39m\n",
      "\u001b[36mEpoch >    22\u001b[39m | \u001b[33mCost: 0.607783\u001b[39m\n",
      "\u001b[36mEpoch >    23\u001b[39m | \u001b[33mCost: 0.603459\u001b[39m\n",
      "\u001b[36mEpoch >    24\u001b[39m | \u001b[33mCost: 0.603313\u001b[39m\n",
      "\u001b[36mEpoch >    25\u001b[39m | \u001b[33mCost: 0.599259\u001b[39m\n",
      "\u001b[36mEpoch >    26\u001b[39m | \u001b[33mCost: 0.599004\u001b[39m\n",
      "\u001b[36mEpoch >    27\u001b[39m | \u001b[33mCost: 0.595200\u001b[39m\n",
      "\u001b[36mEpoch >    28\u001b[39m | \u001b[33mCost: 0.594842\u001b[39m\n",
      "\u001b[36mEpoch >    29\u001b[39m | \u001b[33mCost: 0.591272\u001b[39m\n",
      "\u001b[36mEpoch >    30\u001b[39m | \u001b[33mCost: 0.590816\u001b[39m\n",
      "\u001b[36mEpoch >    31\u001b[39m | \u001b[33mCost: 0.587465\u001b[39m\n",
      "\u001b[36mEpoch >    32\u001b[39m | \u001b[33mCost: 0.586918\u001b[39m\n",
      "\u001b[36mEpoch >    33\u001b[39m | \u001b[33mCost: 0.583773\u001b[39m\n",
      "\u001b[36mEpoch >    34\u001b[39m | \u001b[33mCost: 0.583144\u001b[39m\n",
      "\u001b[36mEpoch >    35\u001b[39m | \u001b[33mCost: 0.580190\u001b[39m\n",
      "\u001b[36mEpoch >    36\u001b[39m | \u001b[33mCost: 0.579487\u001b[39m\n",
      "\u001b[36mEpoch >    37\u001b[39m | \u001b[33mCost: 0.576713\u001b[39m\n",
      "\u001b[36mEpoch >    38\u001b[39m | \u001b[33mCost: 0.575944\u001b[39m\n",
      "\u001b[36mEpoch >    39\u001b[39m | \u001b[33mCost: 0.573338\u001b[39m\n",
      "\u001b[36mEpoch >    40\u001b[39m | \u001b[33mCost: 0.572512\u001b[39m\n",
      "\u001b[36mEpoch >    41\u001b[39m | \u001b[33mCost: 0.570063\u001b[39m\n",
      "\u001b[36mEpoch >    42\u001b[39m | \u001b[33mCost: 0.569189\u001b[39m\n",
      "\u001b[36mEpoch >    43\u001b[39m | \u001b[33mCost: 0.566885\u001b[39m\n",
      "\u001b[36mEpoch >    44\u001b[39m | \u001b[33mCost: 0.565971\u001b[39m\n",
      "\u001b[36mEpoch >    45\u001b[39m | \u001b[33mCost: 0.563802\u001b[39m\n",
      "\u001b[36mEpoch >    46\u001b[39m | \u001b[33mCost: 0.562855\u001b[39m\n",
      "\u001b[36mEpoch >    47\u001b[39m | \u001b[33mCost: 0.560811\u001b[39m\n",
      "\u001b[36mEpoch >    48\u001b[39m | \u001b[33mCost: 0.559840\u001b[39m\n",
      "\u001b[36mEpoch >    49\u001b[39m | \u001b[33mCost: 0.557911\u001b[39m\n",
      "\u001b[36mEpoch >    50\u001b[39m | \u001b[33mCost: 0.556923\u001b[39m\n",
      "\u001b[36mEpoch >    51\u001b[39m | \u001b[33mCost: 0.555098\u001b[39m\n",
      "\u001b[36mEpoch >    52\u001b[39m | \u001b[33mCost: 0.554099\u001b[39m\n",
      "\u001b[36mEpoch >    53\u001b[39m | \u001b[33mCost: 0.552372\u001b[39m\n",
      "\u001b[36mEpoch >    54\u001b[39m | \u001b[33mCost: 0.551367\u001b[39m\n",
      "\u001b[36mEpoch >    55\u001b[39m | \u001b[33mCost: 0.549729\u001b[39m\n",
      "\u001b[36mEpoch >    56\u001b[39m | \u001b[33mCost: 0.548722\u001b[39m\n",
      "\u001b[36mEpoch >    57\u001b[39m | \u001b[33mCost: 0.547165\u001b[39m\n",
      "\u001b[36mEpoch >    58\u001b[39m | \u001b[33mCost: 0.546162\u001b[39m\n",
      "\u001b[36mEpoch >    59\u001b[39m | \u001b[33mCost: 0.544679\u001b[39m\n",
      "\u001b[36mEpoch >    60\u001b[39m | \u001b[33mCost: 0.543681\u001b[39m\n",
      "\u001b[36mEpoch >    61\u001b[39m | \u001b[33mCost: 0.542266\u001b[39m\n",
      "\u001b[36mEpoch >    62\u001b[39m | \u001b[33mCost: 0.541277\u001b[39m\n",
      "\u001b[36mEpoch >    63\u001b[39m | \u001b[33mCost: 0.539923\u001b[39m\n",
      "\u001b[36mEpoch >    64\u001b[39m | \u001b[33mCost: 0.538944\u001b[39m\n",
      "\u001b[36mEpoch >    65\u001b[39m | \u001b[33mCost: 0.537646\u001b[39m\n",
      "\u001b[36mEpoch >    66\u001b[39m | \u001b[33mCost: 0.536678\u001b[39m\n",
      "\u001b[36mEpoch >    67\u001b[39m | \u001b[33mCost: 0.535431\u001b[39m\n",
      "\u001b[36mEpoch >    68\u001b[39m | \u001b[33mCost: 0.534475\u001b[39m\n",
      "\u001b[36mEpoch >    69\u001b[39m | \u001b[33mCost: 0.533275\u001b[39m\n",
      "\u001b[36mEpoch >    70\u001b[39m | \u001b[33mCost: 0.532330\u001b[39m\n",
      "\u001b[36mEpoch >    71\u001b[39m | \u001b[33mCost: 0.531172\u001b[39m\n",
      "\u001b[36mEpoch >    72\u001b[39m | \u001b[33mCost: 0.530240\u001b[39m\n",
      "\u001b[36mEpoch >    73\u001b[39m | \u001b[33mCost: 0.529120\u001b[39m\n",
      "\u001b[36mEpoch >    74\u001b[39m | \u001b[33mCost: 0.528200\u001b[39m\n",
      "\u001b[36mEpoch >    75\u001b[39m | \u001b[33mCost: 0.527115\u001b[39m\n",
      "\u001b[36mEpoch >    76\u001b[39m | \u001b[33mCost: 0.526206\u001b[39m\n",
      "\u001b[36mEpoch >    77\u001b[39m | \u001b[33mCost: 0.525153\u001b[39m\n",
      "\u001b[36mEpoch >    78\u001b[39m | \u001b[33mCost: 0.524255\u001b[39m\n",
      "\u001b[36mEpoch >    79\u001b[39m | \u001b[33mCost: 0.523231\u001b[39m\n",
      "\u001b[36mEpoch >    80\u001b[39m | \u001b[33mCost: 0.522342\u001b[39m\n",
      "\u001b[36mEpoch >    81\u001b[39m | \u001b[33mCost: 0.521345\u001b[39m\n",
      "\u001b[36mEpoch >    82\u001b[39m | \u001b[33mCost: 0.520467\u001b[39m\n",
      "\u001b[36mEpoch >    83\u001b[39m | \u001b[33mCost: 0.519493\u001b[39m\n",
      "\u001b[36mEpoch >    84\u001b[39m | \u001b[33mCost: 0.518624\u001b[39m\n",
      "\u001b[36mEpoch >    85\u001b[39m | \u001b[33mCost: 0.517673\u001b[39m\n",
      "\u001b[36mEpoch >    86\u001b[39m | \u001b[33mCost: 0.516813\u001b[39m\n",
      "\u001b[36mEpoch >    87\u001b[39m | \u001b[33mCost: 0.515883\u001b[39m\n",
      "\u001b[36mEpoch >    88\u001b[39m | \u001b[33mCost: 0.515031\u001b[39m\n",
      "\u001b[36mEpoch >    89\u001b[39m | \u001b[33mCost: 0.514120\u001b[39m\n",
      "\u001b[36mEpoch >    90\u001b[39m | \u001b[33mCost: 0.513276\u001b[39m\n",
      "\u001b[36mEpoch >    91\u001b[39m | \u001b[33mCost: 0.512382\u001b[39m\n",
      "\u001b[36mEpoch >    92\u001b[39m | \u001b[33mCost: 0.511547\u001b[39m\n",
      "\u001b[36mEpoch >    93\u001b[39m | \u001b[33mCost: 0.510669\u001b[39m\n",
      "\u001b[36mEpoch >    94\u001b[39m | \u001b[33mCost: 0.509842\u001b[39m\n",
      "\u001b[36mEpoch >    95\u001b[39m | \u001b[33mCost: 0.508978\u001b[39m\n",
      "\u001b[36mEpoch >    96\u001b[39m | \u001b[33mCost: 0.508159\u001b[39m\n",
      "\u001b[36mEpoch >    97\u001b[39m | \u001b[33mCost: 0.507310\u001b[39m\n",
      "\u001b[36mEpoch >    98\u001b[39m | \u001b[33mCost: 0.506498\u001b[39m\n",
      "\u001b[36mEpoch >    99\u001b[39m | \u001b[33mCost: 0.505662\u001b[39m\n",
      "\u001b[36mEpoch >   100\u001b[39m | \u001b[33mCost: 0.504858\u001b[39m\n",
      "\u001b[36mEpoch >   101\u001b[39m | \u001b[33mCost: 0.504035\u001b[39m\n",
      "\u001b[36mEpoch >   102\u001b[39m | \u001b[33mCost: 0.503238\u001b[39m\n",
      "\u001b[36mEpoch >   103\u001b[39m | \u001b[33mCost: 0.502426\u001b[39m\n",
      "\u001b[36mEpoch >   104\u001b[39m | \u001b[33mCost: 0.501638\u001b[39m\n",
      "\u001b[36mEpoch >   105\u001b[39m | \u001b[33mCost: 0.500837\u001b[39m\n",
      "\u001b[36mEpoch >   106\u001b[39m | \u001b[33mCost: 0.500056\u001b[39m\n",
      "\u001b[36mEpoch >   107\u001b[39m | \u001b[33mCost: 0.499265\u001b[39m\n",
      "\u001b[36mEpoch >   108\u001b[39m | \u001b[33mCost: 0.498491\u001b[39m\n",
      "\u001b[36mEpoch >   109\u001b[39m | \u001b[33mCost: 0.497711\u001b[39m\n",
      "\u001b[36mEpoch >   110\u001b[39m | \u001b[33mCost: 0.496945\u001b[39m\n",
      "\u001b[36mEpoch >   111\u001b[39m | \u001b[33mCost: 0.496173\u001b[39m\n",
      "\u001b[36mEpoch >   112\u001b[39m | \u001b[33mCost: 0.495415\u001b[39m\n",
      "\u001b[36mEpoch >   113\u001b[39m | \u001b[33mCost: 0.494653\u001b[39m\n",
      "\u001b[36mEpoch >   114\u001b[39m | \u001b[33mCost: 0.493902\u001b[39m\n",
      "\u001b[36mEpoch >   115\u001b[39m | \u001b[33mCost: 0.493148\u001b[39m\n",
      "\u001b[36mEpoch >   116\u001b[39m | \u001b[33mCost: 0.492404\u001b[39m\n",
      "\u001b[36mEpoch >   117\u001b[39m | \u001b[33mCost: 0.491659\u001b[39m\n",
      "\u001b[36mEpoch >   118\u001b[39m | \u001b[33mCost: 0.490923\u001b[39m\n",
      "\u001b[36mEpoch >   119\u001b[39m | \u001b[33mCost: 0.490186\u001b[39m\n",
      "\u001b[36mEpoch >   120\u001b[39m | \u001b[33mCost: 0.489456\u001b[39m\n",
      "\u001b[36mEpoch >   121\u001b[39m | \u001b[33mCost: 0.488727\u001b[39m\n",
      "\u001b[36mEpoch >   122\u001b[39m | \u001b[33mCost: 0.488004\u001b[39m\n",
      "\u001b[36mEpoch >   123\u001b[39m | \u001b[33mCost: 0.487283\u001b[39m\n",
      "\u001b[36mEpoch >   124\u001b[39m | \u001b[33mCost: 0.486567\u001b[39m\n",
      "\u001b[36mEpoch >   125\u001b[39m | \u001b[33mCost: 0.485853\u001b[39m\n",
      "\u001b[36mEpoch >   126\u001b[39m | \u001b[33mCost: 0.485144\u001b[39m\n",
      "\u001b[36mEpoch >   127\u001b[39m | \u001b[33mCost: 0.484437\u001b[39m\n",
      "\u001b[36mEpoch >   128\u001b[39m | \u001b[33mCost: 0.483735\u001b[39m\n",
      "\u001b[36mEpoch >   129\u001b[39m | \u001b[33mCost: 0.483035\u001b[39m\n",
      "\u001b[36mEpoch >   130\u001b[39m | \u001b[33mCost: 0.482339\u001b[39m\n",
      "\u001b[36mEpoch >   131\u001b[39m | \u001b[33mCost: 0.481646\u001b[39m\n",
      "\u001b[36mEpoch >   132\u001b[39m | \u001b[33mCost: 0.480957\u001b[39m\n",
      "\u001b[36mEpoch >   133\u001b[39m | \u001b[33mCost: 0.480270\u001b[39m\n",
      "\u001b[36mEpoch >   134\u001b[39m | \u001b[33mCost: 0.479587\u001b[39m\n",
      "\u001b[36mEpoch >   135\u001b[39m | \u001b[33mCost: 0.478907\u001b[39m\n",
      "\u001b[36mEpoch >   136\u001b[39m | \u001b[33mCost: 0.478230\u001b[39m\n",
      "\u001b[36mEpoch >   137\u001b[39m | \u001b[33mCost: 0.477556\u001b[39m\n",
      "\u001b[36mEpoch >   138\u001b[39m | \u001b[33mCost: 0.476886\u001b[39m\n",
      "\u001b[36mEpoch >   139\u001b[39m | \u001b[33mCost: 0.476218\u001b[39m\n",
      "\u001b[36mEpoch >   140\u001b[39m | \u001b[33mCost: 0.475554\u001b[39m\n",
      "\u001b[36mEpoch >   141\u001b[39m | \u001b[33mCost: 0.474892\u001b[39m\n",
      "\u001b[36mEpoch >   142\u001b[39m | \u001b[33mCost: 0.474233\u001b[39m\n",
      "\u001b[36mEpoch >   143\u001b[39m | \u001b[33mCost: 0.473577\u001b[39m\n",
      "\u001b[36mEpoch >   144\u001b[39m | \u001b[33mCost: 0.472924\u001b[39m\n",
      "\u001b[36mEpoch >   145\u001b[39m | \u001b[33mCost: 0.472274\u001b[39m\n",
      "\u001b[36mEpoch >   146\u001b[39m | \u001b[33mCost: 0.471627\u001b[39m\n"
     ]
    },
    {
     "ename": "KeyboardInterrupt",
     "evalue": "",
     "output_type": "error",
     "traceback": [
      "\u001b[1;31m---------------------------------------------------------------------------\u001b[0m",
      "\u001b[1;31mKeyboardInterrupt\u001b[0m                         Traceback (most recent call last)",
      "Cell \u001b[1;32mIn[8], line 2\u001b[0m\n\u001b[0;32m      1\u001b[0m model \u001b[38;5;241m=\u001b[39m Classification(x_train, y_train, lr\u001b[38;5;241m=\u001b[39m\u001b[38;5;241m0.004\u001b[39m)\n\u001b[1;32m----> 2\u001b[0m \u001b[43mmodel\u001b[49m\u001b[38;5;241;43m.\u001b[39;49m\u001b[43mtrain\u001b[49m\u001b[43m(\u001b[49m\u001b[43m)\u001b[49m\n\u001b[0;32m      3\u001b[0m \u001b[38;5;28mprint\u001b[39m(\u001b[38;5;124m\"\u001b[39m\u001b[38;5;124m-\u001b[39m\u001b[38;5;124m\"\u001b[39m \u001b[38;5;241m*\u001b[39m \u001b[38;5;241m50\u001b[39m)\n\u001b[0;32m      4\u001b[0m model\u001b[38;5;241m.\u001b[39mplot_cost()\n",
      "File \u001b[1;32md:\\GitHub - Personal\\SupervisedMachineLearning\\cat-detection\\..\\utils.py:92\u001b[0m, in \u001b[0;36mSupervised.train\u001b[1;34m(self)\u001b[0m\n\u001b[0;32m     91\u001b[0m \u001b[38;5;28;01mdef\u001b[39;00m\u001b[38;5;250m \u001b[39m\u001b[38;5;21mtrain\u001b[39m(\u001b[38;5;28mself\u001b[39m):\n\u001b[1;32m---> 92\u001b[0m     \u001b[38;5;28mself\u001b[39m\u001b[38;5;241m.\u001b[39mW_out, \u001b[38;5;28mself\u001b[39m\u001b[38;5;241m.\u001b[39mb_out \u001b[38;5;241m=\u001b[39m \u001b[38;5;28;43mself\u001b[39;49m\u001b[38;5;241;43m.\u001b[39;49m\u001b[43m_gradient_descent\u001b[49m\u001b[43m(\u001b[49m\u001b[43mnp\u001b[49m\u001b[38;5;241;43m.\u001b[39;49m\u001b[43mzeros\u001b[49m\u001b[43m(\u001b[49m\u001b[38;5;28;43mself\u001b[39;49m\u001b[38;5;241;43m.\u001b[39;49m\u001b[43mX_data\u001b[49m\u001b[38;5;241;43m.\u001b[39;49m\u001b[43mshape\u001b[49m\u001b[43m[\u001b[49m\u001b[38;5;241;43m1\u001b[39;49m\u001b[43m]\u001b[49m\u001b[43m)\u001b[49m\u001b[43m,\u001b[49m\u001b[43m \u001b[49m\u001b[38;5;241;43m0\u001b[39;49m\u001b[43m)\u001b[49m\n\u001b[0;32m     93\u001b[0m     data \u001b[38;5;241m=\u001b[39m {\n\u001b[0;32m     94\u001b[0m         \u001b[38;5;124m\"\u001b[39m\u001b[38;5;124mmodel\u001b[39m\u001b[38;5;124m\"\u001b[39m: \u001b[38;5;28mself\u001b[39m\u001b[38;5;241m.\u001b[39m\u001b[38;5;18m__class__\u001b[39m\u001b[38;5;241m.\u001b[39m\u001b[38;5;18m__name__\u001b[39m,\n\u001b[0;32m     95\u001b[0m         \u001b[38;5;124m\"\u001b[39m\u001b[38;5;124mw\u001b[39m\u001b[38;5;124m\"\u001b[39m: \u001b[38;5;28mself\u001b[39m\u001b[38;5;241m.\u001b[39mW_out\u001b[38;5;241m.\u001b[39mtolist(),\n\u001b[1;32m   (...)\u001b[0m\n\u001b[0;32m     98\u001b[0m         \u001b[38;5;124m\"\u001b[39m\u001b[38;5;124my_max\u001b[39m\u001b[38;5;124m\"\u001b[39m: \u001b[38;5;28mfloat\u001b[39m(\u001b[38;5;28mself\u001b[39m\u001b[38;5;241m.\u001b[39mY_data_max),\n\u001b[0;32m     99\u001b[0m     }\n\u001b[0;32m    100\u001b[0m     path \u001b[38;5;241m=\u001b[39m \u001b[38;5;124m\"\u001b[39m\u001b[38;5;124moutput.json\u001b[39m\u001b[38;5;124m\"\u001b[39m\n",
      "File \u001b[1;32md:\\GitHub - Personal\\SupervisedMachineLearning\\cat-detection\\..\\utils.py:72\u001b[0m, in \u001b[0;36mSupervised._gradient_descent\u001b[1;34m(self, W, b)\u001b[0m\n\u001b[0;32m     70\u001b[0m previous_cost \u001b[38;5;241m=\u001b[39m \u001b[38;5;28;01mNone\u001b[39;00m\n\u001b[0;32m     71\u001b[0m \u001b[38;5;28;01mfor\u001b[39;00m i \u001b[38;5;129;01min\u001b[39;00m \u001b[38;5;28mrange\u001b[39m(\u001b[38;5;28mself\u001b[39m\u001b[38;5;241m.\u001b[39miterations \u001b[38;5;241m+\u001b[39m \u001b[38;5;241m1\u001b[39m):\n\u001b[1;32m---> 72\u001b[0m     dw, db \u001b[38;5;241m=\u001b[39m \u001b[38;5;28;43mself\u001b[39;49m\u001b[38;5;241;43m.\u001b[39;49m\u001b[43m_compute_gradient\u001b[49m\u001b[43m(\u001b[49m\u001b[38;5;28;43mself\u001b[39;49m\u001b[38;5;241;43m.\u001b[39;49m\u001b[43mX_data\u001b[49m\u001b[43m,\u001b[49m\u001b[43m \u001b[49m\u001b[38;5;28;43mself\u001b[39;49m\u001b[38;5;241;43m.\u001b[39;49m\u001b[43mY_data\u001b[49m\u001b[43m,\u001b[49m\u001b[43m \u001b[49m\u001b[43mW\u001b[49m\u001b[43m,\u001b[49m\u001b[43m \u001b[49m\u001b[43mb\u001b[49m\u001b[43m)\u001b[49m\n\u001b[0;32m     73\u001b[0m     w_copy \u001b[38;5;241m-\u001b[39m\u001b[38;5;241m=\u001b[39m \u001b[38;5;28mself\u001b[39m\u001b[38;5;241m.\u001b[39mlr \u001b[38;5;241m*\u001b[39m dw\n\u001b[0;32m     74\u001b[0m     b_copy \u001b[38;5;241m-\u001b[39m\u001b[38;5;241m=\u001b[39m \u001b[38;5;28mself\u001b[39m\u001b[38;5;241m.\u001b[39mlr \u001b[38;5;241m*\u001b[39m db\n",
      "File \u001b[1;32md:\\GitHub - Personal\\SupervisedMachineLearning\\cat-detection\\..\\utils.py:58\u001b[0m, in \u001b[0;36mSupervised._compute_gradient\u001b[1;34m(self, X, Y, W, b)\u001b[0m\n\u001b[0;32m     56\u001b[0m db \u001b[38;5;241m=\u001b[39m \u001b[38;5;241m0\u001b[39m\n\u001b[0;32m     57\u001b[0m \u001b[38;5;28;01mfor\u001b[39;00m i \u001b[38;5;129;01min\u001b[39;00m \u001b[38;5;28mrange\u001b[39m(m):\n\u001b[1;32m---> 58\u001b[0m     loss \u001b[38;5;241m=\u001b[39m \u001b[38;5;28;43mself\u001b[39;49m\u001b[38;5;241;43m.\u001b[39;49m\u001b[43m_function\u001b[49m\u001b[43m(\u001b[49m\u001b[43mW\u001b[49m\u001b[43m,\u001b[49m\u001b[43m \u001b[49m\u001b[43mX\u001b[49m\u001b[43m[\u001b[49m\u001b[43mi\u001b[49m\u001b[43m]\u001b[49m\u001b[43m,\u001b[49m\u001b[43m \u001b[49m\u001b[43mb\u001b[49m\u001b[43m)\u001b[49m \u001b[38;5;241m-\u001b[39m Y[i]\n\u001b[0;32m     59\u001b[0m     \u001b[38;5;28;01mfor\u001b[39;00m j \u001b[38;5;129;01min\u001b[39;00m \u001b[38;5;28mrange\u001b[39m(n):\n\u001b[0;32m     60\u001b[0m         dw[j] \u001b[38;5;241m+\u001b[39m\u001b[38;5;241m=\u001b[39m loss \u001b[38;5;241m*\u001b[39m X[i, j]\n",
      "File \u001b[1;32md:\\GitHub - Personal\\SupervisedMachineLearning\\cat-detection\\..\\utils.py:153\u001b[0m, in \u001b[0;36mClassification._function\u001b[1;34m(self, W, X, b)\u001b[0m\n\u001b[0;32m    152\u001b[0m \u001b[38;5;28;01mdef\u001b[39;00m\u001b[38;5;250m \u001b[39m\u001b[38;5;21m_function\u001b[39m(\u001b[38;5;28mself\u001b[39m, W: np\u001b[38;5;241m.\u001b[39mndarray, X: np\u001b[38;5;241m.\u001b[39mndarray, b: \u001b[38;5;28mfloat\u001b[39m):\n\u001b[1;32m--> 153\u001b[0m     \u001b[38;5;28;01mreturn\u001b[39;00m \u001b[38;5;241m1\u001b[39m \u001b[38;5;241m/\u001b[39m (\u001b[38;5;241m1\u001b[39m \u001b[38;5;241m+\u001b[39m np\u001b[38;5;241m.\u001b[39mexp(\u001b[38;5;241m-\u001b[39m(\u001b[43mnp\u001b[49m\u001b[38;5;241;43m.\u001b[39;49m\u001b[43mdot\u001b[49m\u001b[43m(\u001b[49m\u001b[43mW\u001b[49m\u001b[43m,\u001b[49m\u001b[43m \u001b[49m\u001b[43mX\u001b[49m\u001b[43m)\u001b[49m \u001b[38;5;241m+\u001b[39m b)))\n",
      "\u001b[1;31mKeyboardInterrupt\u001b[0m: "
     ]
    }
   ],
   "source": [
    "model = Classification(x_train, y_train, lr=4e-3)\n",
    "model.train()\n",
    "print(\"-\" * 50)\n",
    "model.plot_cost()\n",
    "print(\"-\" * 50)\n",
    "model.train_accuracy()"
   ]
  }
 ],
 "metadata": {
  "kernelspec": {
   "display_name": "Python 3",
   "language": "python",
   "name": "python3"
  },
  "language_info": {
   "codemirror_mode": {
    "name": "ipython",
    "version": 3
   },
   "file_extension": ".py",
   "mimetype": "text/x-python",
   "name": "python",
   "nbconvert_exporter": "python",
   "pygments_lexer": "ipython3",
   "version": "3.10.0"
  }
 },
 "nbformat": 4,
 "nbformat_minor": 2
}
