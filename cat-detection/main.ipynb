{
 "cells": [
  {
   "cell_type": "markdown",
   "metadata": {},
   "source": [
    "# Imports"
   ]
  },
  {
   "cell_type": "code",
   "execution_count": 1,
   "metadata": {},
   "outputs": [
    {
     "name": "stdout",
     "output_type": "stream",
     "text": [
      "Requirement already satisfied: numpy in c:\\users\\samim\\appdata\\local\\programs\\python\\python310\\lib\\site-packages (2.2.2)\n",
      "Requirement already satisfied: matplotlib in c:\\users\\samim\\appdata\\local\\programs\\python\\python310\\lib\\site-packages (3.10.0)\n",
      "Requirement already satisfied: h5py in c:\\users\\samim\\appdata\\local\\programs\\python\\python310\\lib\\site-packages (3.12.1)\n",
      "Requirement already satisfied: Pillow in c:\\users\\samim\\appdata\\local\\programs\\python\\python310\\lib\\site-packages (10.4.0)\n",
      "Requirement already satisfied: fonttools>=4.22.0 in c:\\users\\samim\\appdata\\local\\programs\\python\\python310\\lib\\site-packages (from matplotlib) (4.55.8)\n",
      "Requirement already satisfied: cycler>=0.10 in c:\\users\\samim\\appdata\\local\\programs\\python\\python310\\lib\\site-packages (from matplotlib) (0.12.1)\n",
      "Requirement already satisfied: kiwisolver>=1.3.1 in c:\\users\\samim\\appdata\\local\\programs\\python\\python310\\lib\\site-packages (from matplotlib) (1.4.8)\n",
      "Requirement already satisfied: python-dateutil>=2.7 in c:\\users\\samim\\appdata\\roaming\\python\\python310\\site-packages (from matplotlib) (2.9.0.post0)\n",
      "Requirement already satisfied: contourpy>=1.0.1 in c:\\users\\samim\\appdata\\local\\programs\\python\\python310\\lib\\site-packages (from matplotlib) (1.3.1)\n",
      "Requirement already satisfied: pyparsing>=2.3.1 in c:\\users\\samim\\appdata\\local\\programs\\python\\python310\\lib\\site-packages (from matplotlib) (3.2.1)\n",
      "Requirement already satisfied: packaging>=20.0 in c:\\users\\samim\\appdata\\roaming\\python\\python310\\site-packages (from matplotlib) (24.2)\n",
      "Requirement already satisfied: six>=1.5 in c:\\users\\samim\\appdata\\roaming\\python\\python310\\site-packages (from python-dateutil>=2.7->matplotlib) (1.17.0)\n",
      "Note: you may need to restart the kernel to use updated packages.\n"
     ]
    },
    {
     "name": "stderr",
     "output_type": "stream",
     "text": [
      "WARNING: You are using pip version 21.2.3; however, version 25.0 is available.\n",
      "You should consider upgrading via the 'c:\\Users\\samim\\AppData\\Local\\Programs\\Python\\Python310\\python.exe -m pip install --upgrade pip' command.\n"
     ]
    }
   ],
   "source": [
    "%pip install numpy matplotlib h5py Pillow"
   ]
  },
  {
   "cell_type": "code",
   "execution_count": 2,
   "metadata": {},
   "outputs": [],
   "source": [
    "import sys\n",
    "import numpy as np\n",
    "import h5py\n",
    "\n",
    "sys.path.append(\"..\")\n",
    "from utils import Classification, load_model"
   ]
  },
  {
   "cell_type": "markdown",
   "metadata": {},
   "source": [
    "# Data"
   ]
  },
  {
   "cell_type": "code",
   "execution_count": 3,
   "metadata": {},
   "outputs": [],
   "source": [
    "data = h5py.File(\"data.h5\", \"r\")\n",
    "\n",
    "keys = list(data.keys())\n",
    "\n",
    "x = np.array(data[keys[1]])\n",
    "y = np.array(data[keys[2]])\n",
    "\n",
    "x_train = x.reshape(x.shape[0], np.prod(x.shape[1:]))\n",
    "y_train = y.reshape(y.shape[0], -1).flatten()"
   ]
  },
  {
   "cell_type": "markdown",
   "metadata": {},
   "source": [
    "# Train > Cost Plot > Accuracy"
   ]
  },
  {
   "cell_type": "code",
   "execution_count": 4,
   "metadata": {},
   "outputs": [
    {
     "name": "stdout",
     "output_type": "stream",
     "text": [
      "\u001b[36mEpoch >     0\u001b[39m | \u001b[33mCost: 0.676827\u001b[39m\n",
      "\u001b[36mEpoch > 30000\u001b[39m | \u001b[33mCost: 0.116570\u001b[39m\n",
      "\u001b[36mEpoch > 60000\u001b[39m | \u001b[33mCost: 0.064126\u001b[39m\n",
      "\u001b[36mEpoch > 90000\u001b[39m | \u001b[33mCost: 0.043717\u001b[39m\n",
      "\u001b[36mEpoch > 120000\u001b[39m | \u001b[33mCost: 0.032985\u001b[39m\n",
      "\u001b[36mEpoch > 150000\u001b[39m | \u001b[33mCost: 0.026409\u001b[39m\n",
      "\u001b[36mEpoch > 180000\u001b[39m | \u001b[33mCost: 0.021984\u001b[39m\n",
      "\u001b[36mEpoch > 210000\u001b[39m | \u001b[33mCost: 0.018810\u001b[39m\n",
      "\u001b[36mEpoch > 240000\u001b[39m | \u001b[33mCost: 0.016427\u001b[39m\n",
      "\u001b[36mEpoch > 270000\u001b[39m | \u001b[33mCost: 0.014573\u001b[39m\n",
      "\u001b[36mEpoch > 300000\u001b[39m | \u001b[33mCost: 0.013092\u001b[39m\n",
      "--------------------------------------------------\n"
     ]
    },
    {
     "data": {
      "image/png": "[encoded data removed]",
      "text/plain": [
       "<Figure size 640x480 with 1 Axes>"
      ]
     },
     "metadata": {},
     "output_type": "display_data"
    },
    {
     "name": "stdout",
     "output_type": "stream",
     "text": [
      "--------------------------------------------------\n",
      "\u001b[36m0.Model Output > 0\u001b[39m | \u001b[33mActual Output: 0.0\u001b[39m\n",
      "\u001b[36m20.Model Output > 0\u001b[39m | \u001b[33mActual Output: 0.0\u001b[39m\n",
      "\u001b[36m40.Model Output > 0\u001b[39m | \u001b[33mActual Output: 0.0\u001b[39m\n",
      "\u001b[36m60.Model Output > 1\u001b[39m | \u001b[33mActual Output: 1.0\u001b[39m\n",
      "\u001b[36m80.Model Output > 0\u001b[39m | \u001b[33mActual Output: 0.0\u001b[39m\n",
      "\u001b[36m100.Model Output > 0\u001b[39m | \u001b[33mActual Output: 0.0\u001b[39m\n",
      "\u001b[36m120.Model Output > 0\u001b[39m | \u001b[33mActual Output: 0.0\u001b[39m\n",
      "\u001b[36m140.Model Output > 0\u001b[39m | \u001b[33mActual Output: 0.0\u001b[39m\n",
      "\u001b[36m160.Model Output > 0\u001b[39m | \u001b[33mActual Output: 0.0\u001b[39m\n",
      "\u001b[36m180.Model Output > 0\u001b[39m | \u001b[33mActual Output: 0.0\u001b[39m\n",
      "\u001b[36m200.Model Output > 1\u001b[39m | \u001b[33mActual Output: 1.0\u001b[39m\n",
      "\u001b[32m >>> Accuracy on train data is 100.0 %\u001b[39m\n"
     ]
    }
   ],
   "source": [
    "model = Classification(x_train, y_train, lr=4e-4, iterations=300_000)\n",
    "model.train()\n",
    "print(\"-\" * 50)\n",
    "model.plot_cost()\n",
    "print(\"-\" * 50)\n",
    "model.train_accuracy()"
   ]
  },
  {
   "cell_type": "code",
   "execution_count": 5,
   "metadata": {},
   "outputs": [
    {
     "data": {
      "text/plain": [
       "1"
      ]
     },
     "execution_count": 5,
     "metadata": {},
     "output_type": "execute_result"
    }
   ],
   "source": [
    "model2 = load_model(\"output.json\")\n",
    "model2.predict(x_train[60])\n"
   ]
  }
 ],
 "metadata": {
  "kernelspec": {
   "display_name": "Python 3",
   "language": "python",
   "name": "python3"
  },
  "language_info": {
   "codemirror_mode": {
    "name": "ipython",
    "version": 3
   },
   "file_extension": ".py",
   "mimetype": "text/x-python",
   "name": "python",
   "nbconvert_exporter": "python",
   "pygments_lexer": "ipython3",
   "version": "3.10.0"
  }
 },
 "nbformat": 4,
 "nbformat_minor": 2
}
