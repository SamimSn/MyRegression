{
 "cells": [
  {
   "cell_type": "markdown",
   "metadata": {},
   "source": [
    "# Imports"
   ]
  },
  {
   "cell_type": "code",
   "execution_count": 1,
   "metadata": {},
   "outputs": [
    {
     "name": "stdout",
     "output_type": "stream",
     "text": [
      "Requirement already satisfied: numpy in c:\\users\\samim\\appdata\\local\\programs\\python\\python310\\lib\\site-packages (2.2.2)Note: you may need to restart the kernel to use updated packages.\n"
     ]
    },
    {
     "name": "stderr",
     "output_type": "stream",
     "text": [
      "WARNING: You are using pip version 21.2.3; however, version 25.0 is available.\n",
      "You should consider upgrading via the 'c:\\Users\\samim\\AppData\\Local\\Programs\\Python\\Python310\\python.exe -m pip install --upgrade pip' command.\n"
     ]
    },
    {
     "name": "stdout",
     "output_type": "stream",
     "text": [
      "\n",
      "Requirement already satisfied: pandas in c:\\users\\samim\\appdata\\local\\programs\\python\\python310\\lib\\site-packages (2.2.3)\n",
      "Requirement already satisfied: matplotlib in c:\\users\\samim\\appdata\\local\\programs\\python\\python310\\lib\\site-packages (3.10.0)\n",
      "Requirement already satisfied: tzdata>=2022.7 in c:\\users\\samim\\appdata\\local\\programs\\python\\python310\\lib\\site-packages (from pandas) (2025.1)\n",
      "Requirement already satisfied: python-dateutil>=2.8.2 in c:\\users\\samim\\appdata\\roaming\\python\\python310\\site-packages (from pandas) (2.9.0.post0)\n",
      "Requirement already satisfied: pytz>=2020.1 in c:\\users\\samim\\appdata\\local\\programs\\python\\python310\\lib\\site-packages (from pandas) (2024.1)\n",
      "Requirement already satisfied: packaging>=20.0 in c:\\users\\samim\\appdata\\roaming\\python\\python310\\site-packages (from matplotlib) (24.2)\n",
      "Requirement already satisfied: pyparsing>=2.3.1 in c:\\users\\samim\\appdata\\local\\programs\\python\\python310\\lib\\site-packages (from matplotlib) (3.2.1)\n",
      "Requirement already satisfied: kiwisolver>=1.3.1 in c:\\users\\samim\\appdata\\local\\programs\\python\\python310\\lib\\site-packages (from matplotlib) (1.4.8)\n",
      "Requirement already satisfied: contourpy>=1.0.1 in c:\\users\\samim\\appdata\\local\\programs\\python\\python310\\lib\\site-packages (from matplotlib) (1.3.1)\n",
      "Requirement already satisfied: fonttools>=4.22.0 in c:\\users\\samim\\appdata\\local\\programs\\python\\python310\\lib\\site-packages (from matplotlib) (4.55.8)\n",
      "Requirement already satisfied: pillow>=8 in c:\\users\\samim\\appdata\\local\\programs\\python\\python310\\lib\\site-packages (from matplotlib) (10.4.0)\n",
      "Requirement already satisfied: cycler>=0.10 in c:\\users\\samim\\appdata\\local\\programs\\python\\python310\\lib\\site-packages (from matplotlib) (0.12.1)\n",
      "Requirement already satisfied: six>=1.5 in c:\\users\\samim\\appdata\\roaming\\python\\python310\\site-packages (from python-dateutil>=2.8.2->pandas) (1.17.0)\n"
     ]
    }
   ],
   "source": [
    "%pip install numpy pandas matplotlib"
   ]
  },
  {
   "cell_type": "code",
   "execution_count": 2,
   "metadata": {},
   "outputs": [],
   "source": [
    "import numpy as np\n",
    "import pandas as pd\n",
    "import matplotlib.pyplot as plt\n",
    "from regression import Regression, load_model"
   ]
  },
  {
   "cell_type": "markdown",
   "metadata": {},
   "source": [
    "# Data"
   ]
  },
  {
   "cell_type": "code",
   "execution_count": 3,
   "metadata": {},
   "outputs": [],
   "source": [
    "data = pd.read_csv(\"data.csv\")\n",
    "\n",
    "x_train = np.array([[data[\"x1\"][i], data[\"x2\"][i]] for i in range(data[\"x1\"].shape[0])])\n",
    "y_train = np.array(data[\"y\"])"
   ]
  },
  {
   "cell_type": "markdown",
   "metadata": {},
   "source": [
    "# Train"
   ]
  },
  {
   "cell_type": "code",
   "execution_count": 4,
   "metadata": {},
   "outputs": [
    {
     "name": "stdout",
     "output_type": "stream",
     "text": [
      "\u001b[96mEpoch >     0\u001b[0m | \u001b[93mCost: 0.133859\u001b[0m\n",
      "\u001b[96mEpoch >   500\u001b[0m | \u001b[93mCost: 0.115032\u001b[0m\n",
      "\u001b[96mEpoch >  1000\u001b[0m | \u001b[93mCost: 0.098285\u001b[0m\n",
      "\u001b[96mEpoch >  1500\u001b[0m | \u001b[93mCost: 0.083460\u001b[0m\n",
      "\u001b[96mEpoch >  2000\u001b[0m | \u001b[93mCost: 0.070409\u001b[0m\n",
      "\u001b[96mEpoch >  2500\u001b[0m | \u001b[93mCost: 0.058996\u001b[0m\n",
      "\u001b[96mEpoch >  3000\u001b[0m | \u001b[93mCost: 0.049092\u001b[0m\n",
      "\u001b[96mEpoch >  3500\u001b[0m | \u001b[93mCost: 0.040578\u001b[0m\n",
      "\u001b[96mEpoch >  4000\u001b[0m | \u001b[93mCost: 0.033344\u001b[0m\n",
      "\u001b[96mEpoch >  4500\u001b[0m | \u001b[93mCost: 0.027287\u001b[0m\n",
      "\u001b[96mEpoch >  5000\u001b[0m | \u001b[93mCost: 0.022310\u001b[0m\n",
      "\u001b[96mEpoch >  5500\u001b[0m | \u001b[93mCost: 0.018324\u001b[0m\n",
      "\u001b[96mEpoch >  6000\u001b[0m | \u001b[93mCost: 0.015245\u001b[0m\n",
      "\u001b[96mEpoch >  6500\u001b[0m | \u001b[93mCost: 0.012998\u001b[0m\n",
      "\u001b[96mEpoch >  7000\u001b[0m | \u001b[93mCost: 0.011509\u001b[0m\n",
      "\u001b[96mEpoch >  7500\u001b[0m | \u001b[93mCost: 0.010713\u001b[0m\n",
      "\u001b[96mEpoch >  8000\u001b[0m | \u001b[93mCost: 0.010547\u001b[0m\n",
      "\u001b[96mEpoch >  8500\u001b[0m | \u001b[93mCost: 0.010954\u001b[0m\n",
      "\u001b[96mEpoch >  9000\u001b[0m | \u001b[93mCost: 0.011880\u001b[0m\n",
      "\u001b[96mEpoch >  9500\u001b[0m | \u001b[93mCost: 0.013276\u001b[0m\n",
      "\u001b[96mEpoch > 10000\u001b[0m | \u001b[93mCost: 0.015096\u001b[0m\n"
     ]
    }
   ],
   "source": [
    "model = Regression(x_train, y_train)\n",
    "model.train()"
   ]
  },
  {
   "cell_type": "markdown",
   "metadata": {},
   "source": [
    "# Predict"
   ]
  },
  {
   "cell_type": "code",
   "execution_count": 5,
   "metadata": {},
   "outputs": [
    {
     "name": "stdout",
     "output_type": "stream",
     "text": [
      "409814.4843345883\n"
     ]
    }
   ],
   "source": [
    "prediction = model.predict(np.array([2104,3]))\n",
    "print(prediction)"
   ]
  },
  {
   "cell_type": "markdown",
   "metadata": {},
   "source": [
    "# Load Model"
   ]
  },
  {
   "cell_type": "code",
   "execution_count": 6,
   "metadata": {},
   "outputs": [
    {
     "name": "stdout",
     "output_type": "stream",
     "text": [
      "409814.4843345877\n"
     ]
    }
   ],
   "source": [
    "loaded_model = load_model(\"output.json\")\n",
    "loaded_prediction = loaded_model.predict(np.array([2104,3]))\n",
    "print(loaded_prediction)"
   ]
  }
 ],
 "metadata": {
  "kernelspec": {
   "display_name": "Python 3",
   "language": "python",
   "name": "python3"
  },
  "language_info": {
   "codemirror_mode": {
    "name": "ipython",
    "version": 3
   },
   "file_extension": ".py",
   "mimetype": "text/x-python",
   "name": "python",
   "nbconvert_exporter": "python",
   "pygments_lexer": "ipython3",
   "version": "3.10.0"
  }
 },
 "nbformat": 4,
 "nbformat_minor": 2
}
